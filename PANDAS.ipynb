{
  "nbformat": 4,
  "nbformat_minor": 0,
  "metadata": {
    "colab": {
      "name": "PANDAS.ipynb",
      "provenance": [],
      "collapsed_sections": [],
      "authorship_tag": "ABX9TyM5uPoYZ4PkD1hx0fU0xcga",
      "include_colab_link": true
    },
    "kernelspec": {
      "name": "python3",
      "display_name": "Python 3"
    }
  },
  "cells": [
    {
      "cell_type": "markdown",
      "metadata": {
        "id": "view-in-github",
        "colab_type": "text"
      },
      "source": [
        "<a href=\"https://colab.research.google.com/github/deblu-svg/Learning-DL/blob/master/PANDAS.ipynb\" target=\"_parent\"><img src=\"https://colab.research.google.com/assets/colab-badge.svg\" alt=\"Open In Colab\"/></a>"
      ]
    },
    {
      "cell_type": "code",
      "metadata": {
        "id": "8BcIJMWe6zf-",
        "colab_type": "code",
        "colab": {}
      },
      "source": [
        ""
      ],
      "execution_count": null,
      "outputs": []
    },
    {
      "cell_type": "markdown",
      "metadata": {
        "id": "4jvSsORF65d-",
        "colab_type": "text"
      },
      "source": [
        "Training and Validation"
      ]
    },
    {
      "cell_type": "code",
      "metadata": {
        "id": "c1jZC9OW6-bL",
        "colab_type": "code",
        "colab": {
          "base_uri": "https://localhost:8080/",
          "height": 51
        },
        "outputId": "4445a131-8d93-4f79-8598-334c524e4f37"
      },
      "source": [
        "import os\n",
        "import pandas as pd\n",
        "import numpy as np\n",
        "\n",
        "df = pd.read_csv(\n",
        "    \"https://data.heatonresearch.com/data/t81-558/auto-mpg.csv\",\n",
        "    na_values=['NA','?'])\n",
        "\n",
        "# Usually a good idea to shuffle\n",
        "df = df.reindex(np.random.permutation(df.index)) \n",
        "\n",
        "mask = np.random.rand(len(df)) < 0.8\n",
        "trainDF = pd.DataFrame(df[mask])\n",
        "validationDF = pd.DataFrame(df[~mask])\n",
        "\n",
        "print(f\"Training DF: {len(trainDF)}\")\n",
        "print(f\"Validation DF: {len(validationDF)}\")"
      ],
      "execution_count": null,
      "outputs": [
        {
          "output_type": "stream",
          "text": [
            "Training DF: 305\n",
            "Validation DF: 93\n"
          ],
          "name": "stdout"
        }
      ]
    },
    {
      "cell_type": "markdown",
      "metadata": {
        "id": "xI2H1lY_7iIs",
        "colab_type": "text"
      },
      "source": [
        "Converting a Dataframe to a Matrix(Going to use in Keras)"
      ]
    },
    {
      "cell_type": "code",
      "metadata": {
        "id": "kpfN2cxF7t85",
        "colab_type": "code",
        "colab": {
          "base_uri": "https://localhost:8080/",
          "height": 136
        },
        "outputId": "02ddd245-fab7-44c9-a5eb-18424b2b4647"
      },
      "source": [
        "df.values"
      ],
      "execution_count": null,
      "outputs": [
        {
          "output_type": "execute_result",
          "data": {
            "text/plain": [
              "array([[21.5, 4, 121.0, ..., 77, 2, 'bmw 320i'],\n",
              "       [32.1, 4, 98.0, ..., 80, 1, 'chevrolet chevette'],\n",
              "       [33.8, 4, 97.0, ..., 80, 3, 'subaru dl'],\n",
              "       ...,\n",
              "       [19.0, 6, 225.0, ..., 77, 1, 'plymouth volare custom'],\n",
              "       [13.0, 8, 318.0, ..., 76, 1, 'plymouth volare premier v8'],\n",
              "       [28.0, 4, 90.0, ..., 74, 1, 'dodge colt']], dtype=object)"
            ]
          },
          "metadata": {
            "tags": []
          },
          "execution_count": 2
        }
      ]
    },
    {
      "cell_type": "markdown",
      "metadata": {
        "id": "cYTsaFrl7xOt",
        "colab_type": "text"
      },
      "source": [
        "You might wish only to convert some of the columns, to leave out the name column, use the following code."
      ]
    },
    {
      "cell_type": "code",
      "metadata": {
        "id": "35_j4dWW725D",
        "colab_type": "code",
        "colab": {
          "base_uri": "https://localhost:8080/",
          "height": 136
        },
        "outputId": "36826262-fe3d-4ec7-c11a-4cbf9ce4c4c6"
      },
      "source": [
        "df[['mpg', 'cylinders', 'displacement', 'horsepower', 'weight',\n",
        "       'acceleration', 'year', 'origin']].values"
      ],
      "execution_count": null,
      "outputs": [
        {
          "output_type": "execute_result",
          "data": {
            "text/plain": [
              "array([[ 21.5,   4. , 121. , ...,  12.8,  77. ,   2. ],\n",
              "       [ 32.1,   4. ,  98. , ...,  15.5,  80. ,   1. ],\n",
              "       [ 33.8,   4. ,  97. , ...,  18. ,  80. ,   3. ],\n",
              "       ...,\n",
              "       [ 19. ,   6. , 225. , ...,  17.7,  77. ,   1. ],\n",
              "       [ 13. ,   8. , 318. , ...,  13.2,  76. ,   1. ],\n",
              "       [ 28. ,   4. ,  90. , ...,  14.5,  74. ,   1. ]])"
            ]
          },
          "metadata": {
            "tags": []
          },
          "execution_count": 3
        }
      ]
    }
  ]
}