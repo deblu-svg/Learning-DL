{
  "nbformat": 4,
  "nbformat_minor": 0,
  "metadata": {
    "colab": {
      "name": "image classification.ipynb",
      "provenance": [],
      "authorship_tag": "ABX9TyNwOXMtNuintAbW8MXtwX+W",
      "include_colab_link": true
    },
    "kernelspec": {
      "name": "python3",
      "display_name": "Python 3"
    }
  },
  "cells": [
    {
      "cell_type": "markdown",
      "metadata": {
        "id": "view-in-github",
        "colab_type": "text"
      },
      "source": [
        "<a href=\"https://colab.research.google.com/github/deblu-svg/Learning-DL/blob/master/image_classification.ipynb\" target=\"_parent\"><img src=\"https://colab.research.google.com/assets/colab-badge.svg\" alt=\"Open In Colab\"/></a>"
      ]
    },
    {
      "cell_type": "code",
      "metadata": {
        "id": "soV4UIXe935i",
        "colab_type": "code",
        "colab": {
          "base_uri": "https://localhost:8080/",
          "height": 102
        },
        "outputId": "5f205591-29f8-4b18-d757-d43ecc3727e4"
      },
      "source": [
        "! git clone https://github.com/sagihaider/BinaryImageClassificationKeras"
      ],
      "execution_count": 2,
      "outputs": [
        {
          "output_type": "stream",
          "text": [
            "Cloning into 'BinaryImageClassificationKeras'...\n",
            "remote: Enumerating objects: 561, done.\u001b[K\n",
            "remote: Total 561 (delta 0), reused 0 (delta 0), pack-reused 561\u001b[K\n",
            "Receiving objects: 100% (561/561), 4.94 MiB | 30.67 MiB/s, done.\n",
            "Resolving deltas: 100% (15/15), done.\n"
          ],
          "name": "stdout"
        }
      ]
    },
    {
      "cell_type": "code",
      "metadata": {
        "id": "LLXgMugv8clz",
        "colab_type": "code",
        "colab": {}
      },
      "source": [
        "import os\n",
        "import numpy as np\n",
        "import cv2\n",
        "import matplotlib.pyplot as plt\n",
        "import skimage.io\n",
        "import skimage.transform\n",
        "from sklearn.preprocessing import label_binarize\n",
        "from keras import layers\n",
        "from keras import models\n",
        "from keras import optimizers\n",
        "\n",
        "###############################################################################################################################\n",
        "#Directory names of the folders that contain the images that need to be trained and tested for.\n",
        "\n",
        "trainDir = 'G:/GitHub/BinaryImageClassificationKeras/CarsVsPlanes/train'\n",
        "testDir = 'G:/GitHub/BinaryImageClassificationKeras/CarsVsPlanes/test'\n",
        "\n",
        "#The list of class names for which label binarizer is run\n",
        "class_names = ['cars', 'planes']\n",
        "\n",
        "#channels = 3 ==> RGB or HSV images, channels = 1 ==> Greyscale images\n",
        "channels = 3\n",
        "\n",
        "#Normalization value should be 255 for RGB or Greyscale images. It should be 1 for HSV images.\n",
        "normalizationVal = 255.0\n",
        "\n",
        "#Other parameters\n",
        "epochs = 100\n",
        "batchsize = 32\n",
        "learningRate = 0.001\n",
        "\n",
        "#%% \n",
        "#Converting the images to numpy arrays\n",
        "X_train = []\n",
        "y_train = []\n",
        "\n",
        "X_test = []\n",
        "y_test = []\n",
        "\n",
        "#For the train images\n",
        "for dirname in os.listdir(trainDir):\n",
        "    if dirname in class_names:\n",
        "        print(dirname)\n",
        "        classdir = trainDir + '//' + dirname\n",
        "        for filename in os.listdir(classdir):\n",
        "            if filename.endswith('.jpg'):\n",
        "                fnWithPath = classdir + '//' + filename\n",
        "                image_data = skimage.io.imread(fnWithPath)\n",
        "                new_image_data = skimage.transform.resize(image_data,(150,150,channels))\n",
        "                new_image_data = new_image_data.reshape((1, 150, 150, channels)).astype(np.float32) / normalizationVal\n",
        "                X_train.append(new_image_data)\n",
        "                y_train.append(dirname)\n",
        "        \n",
        "#For the validation images\n",
        "for dirname in os.listdir(testDir):\n",
        "    if dirname in class_names:\n",
        "        classdir = testDir + '//' + dirname\n",
        "        for filename in os.listdir(classdir):\n",
        "            if filename.endswith('.jpg'):\n",
        "                fnWithPath = classdir + '//' + filename\n",
        "                image_data = skimage.io.imread(fnWithPath)\n",
        "                new_image_data = skimage.transform.resize(image_data,(150,150,channels))\n",
        "                new_image_data = new_image_data.reshape((1, 150, 150, channels)).astype(np.float32) / normalizationVal\n",
        "                X_test.append(new_image_data)\n",
        "                y_test.append(dirname)\n",
        "                \n",
        "\n",
        "print(np.size(X_train))\n",
        "print(np.size(y_train)) #The total number of train images per class\n",
        "print(np.size(X_test))\n",
        "print(np.size(y_test))  #The total number of test images per class\n",
        "\n",
        "X_train = np.reshape(X_train,(np.size(y_train),150,150,channels))\n",
        "y_train = np.reshape(y_train,(np.size(y_train),1))\n",
        "X_test = np.reshape(X_test,(np.size(y_test),150,150,channels))\n",
        "y_test = np.reshape(y_test,(np.size(y_test),1))\n",
        "\n",
        "y_train = label_binarize(y_train, classes = class_names)\n",
        "y_test = label_binarize(y_test, classes = class_names)\n",
        "\n",
        "\n",
        "#%% Define model\n",
        "model = models.Sequential()\n",
        "model.add(layers.Conv2D(32, (3, 3), activation='relu', input_shape=(150, 150, 3)))\n",
        "model.add(layers.MaxPooling2D((2, 2)))\n",
        "model.add(layers.Conv2D(64, (3, 3), activation='relu'))\n",
        "model.add(layers.MaxPooling2D((2, 2)))\n",
        "model.add(layers.Conv2D(128, (3, 3), activation='relu'))\n",
        "model.add(layers.MaxPooling2D((2, 2)))\n",
        "model.add(layers.Conv2D(128, (3, 3), activation='relu'))\n",
        "model.add(layers.MaxPooling2D((2, 2)))\n",
        "model.add(layers.Flatten())\n",
        "model.add(layers.Dropout(0.5))\n",
        "model.add(layers.Dense(512, activation='relu'))\n",
        "model.add(layers.Dense(1, activation='sigmoid'))\n",
        "\n",
        "model.compile(loss='binary_crossentropy',\n",
        "              optimizer=optimizers.RMSprop(lr=1e-4),\n",
        "              metrics=['acc'])\n",
        "\n",
        "\n",
        "#%% Executing the model\n",
        "history = model.fit(X_train, \n",
        "                    y_train, \n",
        "                    shuffle         = True,\n",
        "                    epochs          = epochs, \n",
        "                    verbose         = 1, \n",
        "                    batch_size      = batchsize)\n",
        "\n",
        "#%% Predict Model\n",
        "\n",
        "pred_y=model.predict(X_test)\n",
        "pred_y_class=model.predict_classes(X_test)\n",
        "pred_y_class_prob=model.predict_proba(X_test)\n",
        "from sklearn.metrics import accuracy_score\n",
        "\n",
        "# Print accuracy\n",
        "accuracy_score(y_test, pred_y_class)"
      ],
      "execution_count": null,
      "outputs": []
    }
  ]
}